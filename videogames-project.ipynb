{
 "cells": [
  {
   "cell_type": "markdown",
   "id": "6225995e-ae7a-4eac-9dc5-37dd8e25e021",
   "metadata": {},
   "source": [
    "<h1>Get the number of pages</h1>"
   ]
  },
  {
   "cell_type": "code",
   "execution_count": 1,
   "id": "a9785b0f-7aef-4501-a249-0efecee4f96d",
   "metadata": {},
   "outputs": [],
   "source": [
    "import requests\n",
    "from bs4 import BeautifulSoup\n",
    "import time\n",
    "from concurrent.futures import ThreadPoolExecutor, as_completed\n",
    "import re\n",
    "from pyspark.sql import SparkSession\n",
    "from pyspark.conf import SparkConf\n",
    "from pyspark.sql.functions import to_date,col,date_format,sort_array\n",
    "from datetime import datetime\n",
    "import os\n",
    "from dotenv import load_dotenv\n",
    "import logging"
   ]
  },
  {
   "cell_type": "code",
   "execution_count": 2,
   "id": "410a4ee6-e459-4ada-9f65-2398db3d3819",
   "metadata": {},
   "outputs": [],
   "source": [
    "logging.basicConfig(\n",
    "    filename='log.txt',     # Nom du fichier de log\n",
    "    level=logging.ERROR,    # Niveau de gravité à capturer\n",
    "    format='%(asctime)s - %(levelname)s - %(message)s',  # Format des messages\n",
    "    filemode='a'            # Mode d'ouverture du fichier (ajout)\n",
    ")"
   ]
  },
  {
   "cell_type": "markdown",
   "id": "7d821771-9a8d-49ff-b45f-a81f3f1995bc",
   "metadata": {},
   "source": [
    "<p>We set up the url of our page. we can change the years of game releases, as well as their platform and many other criteria</p>"
   ]
  },
  {
   "cell_type": "code",
   "execution_count": 3,
   "id": "cc4f167a-6e39-4421-a95b-383631d5f418",
   "metadata": {},
   "outputs": [],
   "source": [
    "url = f'https://www.metacritic.com/browse/game/?releaseYearMin=2019&releaseYearMax=2024&page='"
   ]
  },
  {
   "cell_type": "code",
   "execution_count": 4,
   "id": "8661ff5d-17e4-4f04-a4b5-7be1b8bf6578",
   "metadata": {},
   "outputs": [],
   "source": [
    "def get_number_pages(url):\n",
    "    headers = {\n",
    "        'User-Agent': 'Mozilla/5.0 (Windows NT 10.0; Win64; x64) AppleWebKit/537.36 (KHTML, like Gecko) Chrome/91.0.4472.124 Safari/537.36'\n",
    "    }\n",
    "    response = requests.get(url+\"1\", headers=headers)\n",
    "    \n",
    "    # if the request was successful\n",
    "    if response.status_code == 200:\n",
    "        soup = BeautifulSoup(response.text, 'html.parser')\n",
    "        game_presence = soup.find('div',class_='c-finderProductCard')\n",
    "        if game_presence is not None:\n",
    "            try:\n",
    "                number_page = soup.find('span',class_='c-navigationPagination_pages').find_all('span','c-navigationPagination_itemButtonContent')[-1]\n",
    "                number_page = number_page.text.strip()\n",
    "                print(number_page,\"pages trouvées\")\n",
    "                return int(number_page)\n",
    "            except Exception as e:\n",
    "                print(\"1 pages trouvée\")\n",
    "                return 1\n",
    "        else:\n",
    "            print(\"Aucun jeu trouvé\")\n",
    "            return -1\n",
    "    else:\n",
    "        print(f\"Erreur {response.status_code}\")\n",
    "        return -1"
   ]
  },
  {
   "cell_type": "code",
   "execution_count": 5,
   "id": "a5893b4b-60df-4773-b9d3-d8636c4b7e6e",
   "metadata": {},
   "outputs": [
    {
     "name": "stdout",
     "output_type": "stream",
     "text": [
      "123 pages trouvées\n"
     ]
    }
   ],
   "source": [
    "number_page = get_number_pages(url)"
   ]
  },
  {
   "cell_type": "markdown",
   "id": "93e7bb23-987b-490d-a0e3-ff7101660608",
   "metadata": {},
   "source": [
    "<h1>Get the content of each page</h1>"
   ]
  },
  {
   "cell_type": "code",
   "execution_count": 6,
   "id": "6b2d20df-4b6a-470c-81cc-afde763867ef",
   "metadata": {},
   "outputs": [],
   "source": [
    "#Function that, for a page number passed as parameter, will retrieve the content of the associated page\n",
    "def fetch_page_data(numpage):\n",
    "    time.sleep(2)\n",
    "    if numpage > 0:\n",
    "        headers = {\n",
    "            'User-Agent': 'Mozilla/5.0 (Windows NT 10.0; Win64; x64) AppleWebKit/537.36 (KHTML, like Gecko) Chrome/91.0.4472.124 Safari/537.36'\n",
    "        }\n",
    "        try:\n",
    "            response = requests.get(url+str(numpage), headers=headers, timeout=10)\n",
    "            response.raise_for_status()  # Lève une exception si le code de statut n'est pas 200\n",
    "            return numpage, response.text\n",
    "        except HTTPError as http_err:\n",
    "            print(f\"Erreur HTTP pour la page {numpage}: {http_err}\")\n",
    "        except Timeout:\n",
    "            print(f\"Timeout pour la page {numpage}\")\n",
    "        except RequestException as req_err:\n",
    "            print(f\"Erreur de requête pour la page {numpage}: {req_err}\")\n",
    "    return numpage, \"NULL\"  # Si une erreur survient, retournez \"NULL\""
   ]
  },
  {
   "cell_type": "code",
   "execution_count": 7,
   "id": "7c5244b4-5da2-4b55-b718-6221fcf541ea",
   "metadata": {
    "scrolled": true
   },
   "outputs": [],
   "source": [
    "def create_tab_request(number_page):\n",
    "    if number_page>0:\n",
    "        html_content_tab_request = []\n",
    "        # Using ThreadPoolExecutor for multithreading to speed up the process\n",
    "        # For each page number from 1 to number_page, we call the fetch_page_data function and add the result in our result table\n",
    "        with ThreadPoolExecutor(max_workers=20) as executor:\n",
    "            # Submit tasks for each page\n",
    "            futures = [executor.submit(fetch_page_data, numpage) for numpage in range(1, int(number_page) + 1)]\n",
    "        \n",
    "            # Wait for each task to be completed and retrieve the results\n",
    "            for future in as_completed(futures):\n",
    "                numpage, content = future.result()  # Get page number and content\n",
    "                html_content_tab_request.append(content)\n",
    "        return html_content_tab_request\n",
    "    else:\n",
    "        print(\"Number page negatif\")\n",
    "        return []"
   ]
  },
  {
   "cell_type": "code",
   "execution_count": 8,
   "id": "832fe317-db98-4f70-8736-e9da7efcb3f7",
   "metadata": {},
   "outputs": [],
   "source": [
    "html_content_tab_request = create_tab_request(number_page)"
   ]
  },
  {
   "cell_type": "markdown",
   "id": "7a7223e2-bb2e-4931-86e8-2d38bc266842",
   "metadata": {},
   "source": [
    "<h1>Get game titles</h1>"
   ]
  },
  {
   "cell_type": "code",
   "execution_count": 9,
   "id": "011a62a1-ffb1-4a0d-b1a8-49c02e6e5d59",
   "metadata": {},
   "outputs": [],
   "source": [
    "#we get the info from all games\n",
    "def get_game_titles(html_content_tab_request):\n",
    "    titles = []\n",
    "    if len(html_content_tab_request) > 0 and html_content_tab_request is not None:\n",
    "        for html_page in html_content_tab_request:\n",
    "            soup = BeautifulSoup(html_page, 'html.parser')\n",
    "        \n",
    "            links = soup.find_all('a',class_='c-finderProductCard_container')\n",
    "            \n",
    "            for element in links:\n",
    "                title_no_transform = element.get('href')\n",
    "                parts = title_no_transform.split(\"/\")\n",
    "                truncated_string = parts[2]\n",
    "                titles.append(truncated_string)\n",
    "    else:\n",
    "        print(\"le tableau passé en paramètre est vide\")\n",
    "        \n",
    "    return titles"
   ]
  },
  {
   "cell_type": "code",
   "execution_count": 10,
   "id": "ccf091d9-e9cc-4cd0-8406-42107f62423d",
   "metadata": {},
   "outputs": [],
   "source": [
    "titles = get_game_titles(html_content_tab_request)"
   ]
  },
  {
   "cell_type": "code",
   "execution_count": 11,
   "id": "58a9b8a9-1cda-43fd-a600-d27f8861210c",
   "metadata": {},
   "outputs": [
    {
     "name": "stdout",
     "output_type": "stream",
     "text": [
      "2948\n"
     ]
    }
   ],
   "source": [
    "print(len(titles))"
   ]
  },
  {
   "cell_type": "markdown",
   "id": "6b5611e4-cf2f-4b9f-a174-4ca1981d53c5",
   "metadata": {},
   "source": [
    "<h1>Get game info</h1>"
   ]
  },
  {
   "cell_type": "code",
   "execution_count": 12,
   "id": "9a215d87-10bb-4e1c-b094-51e20cdf8e42",
   "metadata": {},
   "outputs": [],
   "source": [
    "def get_game_info(title):\n",
    "    time.sleep(2)\n",
    "    url = f'https://www.metacritic.com/game/{title}/'\n",
    "    headers = {\n",
    "        'User-Agent': 'Mozilla/5.0 (Windows NT 10.0; Win64; x64) AppleWebKit/537.36 (KHTML, like Gecko) Chrome/91.0.4472.124 Safari/537.36'\n",
    "    }\n",
    "    \n",
    "    # Récupérer la page\n",
    "    response = requests.get(url, headers=headers)\n",
    "    if response.status_code != 200:\n",
    "        print(f\"Page inconnue pour {title}\")\n",
    "        return create_error_response(title)\n",
    "\n",
    "    soup = BeautifulSoup(response.text, 'html.parser')\n",
    "    \n",
    "    # Retrieve game data\n",
    "    metascore = get_metascore(title,soup)\n",
    "    userscore = get_userscore(title,soup)\n",
    "    reviews_number = get_reviews_number(title,soup)\n",
    "    release_date = get_release_date(title,soup)\n",
    "    genre = get_genre(title,soup)\n",
    "    developer = get_developer(title,soup)\n",
    "    publisher = get_publisher(title,soup)\n",
    "    platforms = get_platforms(title,soup)\n",
    "\n",
    "    return [title, metascore, userscore, reviews_number, release_date, genre, developer,publisher, platforms]"
   ]
  },
  {
   "cell_type": "code",
   "execution_count": 13,
   "id": "a90ea897-2deb-4d63-baca-6cac7e5f8cfe",
   "metadata": {},
   "outputs": [],
   "source": [
    "def create_error_response(title):\n",
    "    \"\"\"Renvoie une liste avec des valeurs d'erreur pour le jeu.\"\"\"\n",
    "    return [title, \"-1\", \"-1\", \"-1\",\"NULL\", \"NULL\", \"NULL\", \"NULL\", [\"NULL\"]]"
   ]
  },
  {
   "cell_type": "code",
   "execution_count": 14,
   "id": "ab607a78-7fec-4d3e-b119-2f9bc7c1bfda",
   "metadata": {},
   "outputs": [],
   "source": [
    "def get_metascore(title,soup):\n",
    "    \"\"\"Récupère le metascore du jeu.\"\"\"\n",
    "    try:\n",
    "        metascore = soup.find('div', class_='c-siteReviewScore').find('span')\n",
    "        return metascore.text\n",
    "    except Exception as e:\n",
    "        logging.error(f\"Game : {title} - Erreur metascore inexistantes: {e}\")\n",
    "        return \"-1\""
   ]
  },
  {
   "cell_type": "code",
   "execution_count": 15,
   "id": "92277985-a5f5-40f2-9a8e-3d8e73776a79",
   "metadata": {},
   "outputs": [],
   "source": [
    "def get_userscore(title,soup):\n",
    "    \"\"\"Récupère le score utilisateur du jeu.\"\"\"\n",
    "    try:\n",
    "        userscore = soup.find('div', class_='c-siteReviewScore_user').find('span')\n",
    "        #if the game doesn't have userscore (\"tbd\" value)\n",
    "        if userscore.text==\"tbd\":\n",
    "            return -1\n",
    "        else:\n",
    "            return userscore.text\n",
    "    except Exception as e:\n",
    "        #if the game doesn't have userscore (div userscore not exist)\n",
    "        logging.error(f\"Game : {title} - Erreur userscore inexistantes: {e}\")\n",
    "        return \"-1\""
   ]
  },
  {
   "cell_type": "code",
   "execution_count": 16,
   "id": "594ab70f-4f5d-44a6-8c39-d50758ae8fcc",
   "metadata": {},
   "outputs": [],
   "source": [
    "def get_reviews_number(title,soup):\n",
    "    \"\"\"Récupère le nombre de critiques utilisateurs.\"\"\"\n",
    "    try:\n",
    "        reviews_number = soup.find_all('span', class_='c-productScoreInfo_reviewsTotal')[1].find('span').text\n",
    "        # Extract only the numbers\n",
    "        match = re.search(r'\\d+', reviews_number.replace(',', ''))\n",
    "        return match.group(0) if match else \"NULL\"\n",
    "    except Exception as e:\n",
    "        logging.error(f\"Game : {title} - Aucun avis utilisateur: {e}\")\n",
    "        return \"0\""
   ]
  },
  {
   "cell_type": "code",
   "execution_count": 17,
   "id": "628402a4-87e8-45f8-b37e-1866ace20392",
   "metadata": {},
   "outputs": [],
   "source": [
    "def get_release_date(title,soup):\n",
    "    \"\"\"Récupère la date de sortie du jeu.\"\"\"\n",
    "    try:\n",
    "        release_date = soup.find_all('div', class_='g-text-xsmall')[1].find('span', class_='u-text-uppercase')\n",
    "        return release_date.text if release_date else \"error\"\n",
    "    except Exception as e:\n",
    "        logging.error(f\"Game : {title} - Erreur date inexistantes: {e}\")\n",
    "        return \"NULL\""
   ]
  },
  {
   "cell_type": "code",
   "execution_count": 18,
   "id": "a81657ce-d07a-4610-9242-1ecbcf141f4c",
   "metadata": {},
   "outputs": [],
   "source": [
    "def get_genre(title,soup):\n",
    "    \"\"\"Récupère le genre du jeu.\"\"\"\n",
    "    try:\n",
    "        genre = soup.find('li', class_='c-genreList_item').find('span', class_='c-globalButton_label')\n",
    "        return genre.text.strip() if genre else \"error\"\n",
    "    except Exception as e:\n",
    "        logging.error(f\"Game : {title} - Erreur genre inexistantes: {e}\")\n",
    "        return \"NULL\""
   ]
  },
  {
   "cell_type": "code",
   "execution_count": 19,
   "id": "1920cd56-00c0-4862-8ed5-bdb544c83275",
   "metadata": {},
   "outputs": [],
   "source": [
    "def get_developer(title,soup):\n",
    "    \"\"\"Récupère le développeur du jeu.\"\"\"\n",
    "    try:\n",
    "        developer = soup.find('div', class_='c-gameDetails_Developer').find('li', class_='c-gameDetails_listItem')\n",
    "        return developer.text.strip() if developer else \"error\"\n",
    "    except Exception as e:\n",
    "        logging.error(f\"Game : {title} - Erreur developer inexistantes: {e}\")\n",
    "        return \"NULL\"\n"
   ]
  },
  {
   "cell_type": "code",
   "execution_count": 20,
   "id": "53f4a239-bad7-42e3-a3f2-49fe3f551415",
   "metadata": {},
   "outputs": [],
   "source": [
    "def get_publisher(title,soup):\n",
    "    \"\"\"Récupère l'éditeur du jeu.\"\"\"\n",
    "    try:\n",
    "        publisher = soup.find('div', class_='c-gameDetails_Distributor').find_all('span')[1]\n",
    "        return publisher.text.strip() if publisher else \"error\"\n",
    "    except Exception as e:\n",
    "        logging.error(f\"Game : {title} - Erreur publisher inexistantes: {e}\")\n",
    "        return \"NULL\"\n"
   ]
  },
  {
   "cell_type": "code",
   "execution_count": 21,
   "id": "527da90d-39f4-4e84-b321-6a87e71ea1ac",
   "metadata": {},
   "outputs": [],
   "source": [
    "def get_platforms(title,soup):\n",
    "    \"\"\"Récupère les plateformes sur lesquelles le jeu est disponible.\"\"\"\n",
    "    try:\n",
    "        platforms_list = soup.find('div', class_='c-gameDetails_Platforms').find_all('li')\n",
    "        return [platform.text.strip() for platform in platforms_list] if platforms_list else [\"error\"]\n",
    "    except Exception as e:\n",
    "        logging.error(f\"Game : {title} - Erreur plateforms inexistantes: {e}\")\n",
    "        return [\"NULL\"]"
   ]
  },
  {
   "cell_type": "code",
   "execution_count": 22,
   "id": "74beaf96-c51c-46d5-a016-41b3b91e24c8",
   "metadata": {},
   "outputs": [],
   "source": [
    "def fetch_all_games_info(titles):\n",
    "    game_info_list = []\n",
    "\n",
    "    # Using ThreadPoolExecutor to run in parallel\n",
    "    with ThreadPoolExecutor(max_workers=30) as executor:\n",
    "        # Submit tasks to be performed for each title\n",
    "        future_to_game_info = {executor.submit(get_game_info, title): title for title in titles}\n",
    "\n",
    "        # Collect results as soon as they are ready\n",
    "        for future in as_completed(future_to_game_info):\n",
    "            game_info = future_to_game_info[future]\n",
    "            try:\n",
    "                data = future.result()\n",
    "                if data != \"error\":\n",
    "                    game_info_list.append(data)\n",
    "            except Exception as e:\n",
    "                logging.error(f\"{game_info} generated an exception: {e}\")\n",
    "    return game_info_list"
   ]
  },
  {
   "cell_type": "code",
   "execution_count": 23,
   "id": "b42006b4-b093-496e-992f-c70bbc8f0b75",
   "metadata": {},
   "outputs": [],
   "source": [
    "all_game_infos = fetch_all_games_info(titles)"
   ]
  },
  {
   "cell_type": "markdown",
   "id": "a8de926e-fea4-4136-bff4-9fc2da3484d6",
   "metadata": {},
   "source": [
    "<h1>Data cleaning</h1>"
   ]
  },
  {
   "cell_type": "code",
   "execution_count": 24,
   "id": "47596db4-209e-49e5-bcfc-a6b56d2d9baa",
   "metadata": {},
   "outputs": [
    {
     "name": "stderr",
     "output_type": "stream",
     "text": [
      "24/09/12 00:40:52 WARN Utils: Your hostname, MacBook-Air-de-Geoffrey.local resolves to a loopback address: 127.0.0.1; using 10.245.55.173 instead (on interface en0)\n",
      "24/09/12 00:40:52 WARN Utils: Set SPARK_LOCAL_IP if you need to bind to another address\n",
      "Ivy Default Cache set to: /Users/gvillevy/.ivy2/cache\n",
      "The jars for the packages stored in: /Users/gvillevy/.ivy2/jars\n",
      "io.delta#delta-core_2.12 added as a dependency\n",
      "org.apache.hadoop#hadoop-aws added as a dependency\n",
      ":: resolving dependencies :: org.apache.spark#spark-submit-parent-1528b051-d869-4760-98d6-2a93042cf3a7;1.0\n",
      "\tconfs: [default]\n"
     ]
    },
    {
     "name": "stdout",
     "output_type": "stream",
     "text": [
      ":: loading settings :: url = jar:file:/Users/gvillevy/anaconda3/lib/python3.11/site-packages/pyspark/jars/ivy-2.5.1.jar!/org/apache/ivy/core/settings/ivysettings.xml\n"
     ]
    },
    {
     "name": "stderr",
     "output_type": "stream",
     "text": [
      "\tfound io.delta#delta-core_2.12;2.3.0 in central\n",
      "\tfound io.delta#delta-storage;2.3.0 in central\n",
      "\tfound org.antlr#antlr4-runtime;4.8 in central\n",
      "\tfound org.apache.hadoop#hadoop-aws;3.3.2 in central\n",
      "\tfound com.amazonaws#aws-java-sdk-bundle;1.11.1026 in central\n",
      "\tfound org.wildfly.openssl#wildfly-openssl;1.0.7.Final in central\n",
      ":: resolution report :: resolve 151ms :: artifacts dl 5ms\n",
      "\t:: modules in use:\n",
      "\tcom.amazonaws#aws-java-sdk-bundle;1.11.1026 from central in [default]\n",
      "\tio.delta#delta-core_2.12;2.3.0 from central in [default]\n",
      "\tio.delta#delta-storage;2.3.0 from central in [default]\n",
      "\torg.antlr#antlr4-runtime;4.8 from central in [default]\n",
      "\torg.apache.hadoop#hadoop-aws;3.3.2 from central in [default]\n",
      "\torg.wildfly.openssl#wildfly-openssl;1.0.7.Final from central in [default]\n",
      "\t---------------------------------------------------------------------\n",
      "\t|                  |            modules            ||   artifacts   |\n",
      "\t|       conf       | number| search|dwnlded|evicted|| number|dwnlded|\n",
      "\t---------------------------------------------------------------------\n",
      "\t|      default     |   6   |   0   |   0   |   0   ||   6   |   0   |\n",
      "\t---------------------------------------------------------------------\n",
      ":: retrieving :: org.apache.spark#spark-submit-parent-1528b051-d869-4760-98d6-2a93042cf3a7\n",
      "\tconfs: [default]\n",
      "\t0 artifacts copied, 6 already retrieved (0kB/4ms)\n",
      "24/09/12 00:40:52 WARN NativeCodeLoader: Unable to load native-hadoop library for your platform... using builtin-java classes where applicable\n",
      "Setting default log level to \"WARN\".\n",
      "To adjust logging level use sc.setLogLevel(newLevel). For SparkR, use setLogLevel(newLevel).\n"
     ]
    }
   ],
   "source": [
    "load_dotenv()\n",
    "\n",
    "aws_access_key_id = os.getenv('AWS_ACCESS_KEY_ID')\n",
    "aws_secret_access_key = os.getenv('AWS_SECRET_ACCESS_KEY')\n",
    "\n",
    "conf = (\n",
    "    SparkConf()\n",
    "    .setAppName(\"MY_APP\") # replace with your desired name\n",
    "    .set(\"spark.jars.packages\", \"io.delta:delta-core_2.12:2.3.0,org.apache.hadoop:hadoop-aws:3.3.2\")\n",
    "    .set(\"spark.sql.catalog.spark_catalog\",\"org.apache.spark.sql.delta.catalog.DeltaCatalog\")\n",
    "    .set(\"spark.sql.extensions\", \"io.delta.sql.DeltaSparkSessionExtension\")\n",
    "    .set(\"spark.hadoop.fs.s3a.access.key\", aws_access_key_id)\n",
    "    .set(\"spark.hadoop.fs.s3a.secret.key\", aws_secret_access_key)\n",
    "    .set(\"spark.sql.shuffle.partitions\", \"10\")\n",
    "    .setMaster(\"local[*]\")\n",
    ")\n",
    "\n",
    "spark = SparkSession.builder.config(conf=conf).getOrCreate()\n",
    "spark.sparkContext.setLogLevel(\"ERROR\")"
   ]
  },
  {
   "cell_type": "code",
   "execution_count": 25,
   "id": "35e508d2-d9d7-4f27-aa11-9552cf105e4f",
   "metadata": {},
   "outputs": [
    {
     "name": "stderr",
     "output_type": "stream",
     "text": [
      "                                                                                \r"
     ]
    },
    {
     "name": "stdout",
     "output_type": "stream",
     "text": [
      "+--------------------+---------+---------+--------------+------------+----------------+--------------------+--------------------+--------------------+\n",
      "|               title|metascore|userscore|reviews_number|        date|           genre|           developer|           publisher|          plateforms|\n",
      "+--------------------+---------+---------+--------------+------------+----------------+--------------------+--------------------+--------------------+\n",
      "|     forza-horizon-5|       92|      8.2|          4735| Nov 5, 2021| Auto Racing Sim|    Playground Games|   Xbox Game Studios|[PC, Xbox Series ...|\n",
      "|           astro-bot|       94|      9.5|          2164| Sep 6, 2024|   3D Platformer|          Team Asobi|Sony Interactive ...|     [PlayStation 5]|\n",
      "|     resident-evil-4|       93|      8.4|          6685|Mar 24, 2023|        Survival|              Capcom|              Capcom|[PlayStation 5, X...|\n",
      "|        demons-souls|       92|      8.1|          4326|Nov 11, 2020|      Action RPG|     Bluepoint Games|Sony Interactive ...|     [PlayStation 5]|\n",
      "|castlevania-domin...|       92|      8.9|            28|Aug 27, 2024|     Compilation|                  M2|              Konami|[Nintendo Switch,...|\n",
      "|the-last-of-us-pa...|       93|      5.8|        164735|Jun 19, 2020|        Survival|         Naughty Dog|Sony Interactive ...|     [PlayStation 4]|\n",
      "|the-house-in-fata...|       96|      8.4|           975| Apr 9, 2021|    Visual Novel|               HuneX|   Limited Run Games|   [Nintendo Switch]|\n",
      "|          retro-bowl|       84|      7.6|            31|Feb 10, 2022|    Football Sim|Five Aces Publish...|Five Aces Publish...|[iOS (iPhone/iPad...|\n",
      "|    street-fighter-6|       92|      7.1|          1921| Jun 2, 2023|     2D Fighting|              Capcom|              Capcom|[PlayStation 5, X...|\n",
      "|super-mario-bros-...|       92|      9.1|          2429|Oct 20, 2023|   2D Platformer|            Nintendo|            Nintendo|   [Nintendo Switch]|\n",
      "|final-fantasy-xiv...|       92|      8.8|          2065| Dec 7, 2021|          MMORPG|Creative Business...|         Square Enix|[PC, PlayStation ...|\n",
      "|      baldurs-gate-3|       96|      8.8|         17405| Aug 3, 2023|     Western RPG|Larian Studios Games|Larian Studios Games|[PC, PlayStation ...|\n",
      "| god-of-war-ragnarok|       94|      8.1|         12119| Nov 9, 2022|Action Adventure|    SCE Santa Monica| PlayStation Studios|[PlayStation 5, P...|\n",
      "|     super-mario-rpg|       84|      8.3|           390|Nov 17, 2023|            JRPG|          ArtePiazza|            Nintendo|   [Nintendo Switch]|\n",
      "|          elden-ring|       96|      8.1|         17187|Feb 25, 2022|      Action RPG|       From Software|  Bandai Namco Games|[PC, Xbox One, Pl...|\n",
      "|final-fantasy-vii...|       92|      8.9|          5127|Feb 29, 2024|      Action RPG|         Square Enix|         Square Enix|     [PlayStation 5]|\n",
      "|xenoblade-chronic...|       92|      9.0|           520|Apr 25, 2023|      Action RPG|       Monolith Soft|            Nintendo|   [Nintendo Switch]|\n",
      "|i-was-a-teenage-e...|       91|      7.7|            60|Aug 25, 2022|     Card Battle|      Northway Games|               Finji|[PC, PlayStation ...|\n",
      "|portal-companion-...|       95|      8.7|            79|Jun 28, 2022|     Compilation|      Valve Software|      Valve Software|   [Nintendo Switch]|\n",
      "|      half-life-alyx|       93|      9.2|          2981|Mar 23, 2020|             FPS|      Valve Software|      Valve Software|                [PC]|\n",
      "+--------------------+---------+---------+--------------+------------+----------------+--------------------+--------------------+--------------------+\n",
      "only showing top 20 rows\n",
      "\n"
     ]
    }
   ],
   "source": [
    "#We create our dataframe with our information\n",
    "df = spark.createDataFrame(all_game_infos, [\"title\",\"metascore\",\"userscore\",\"reviews_number\",\"date\",\"genre\",\"developer\",\"publisher\",\"plateforms\"])\n",
    "df.show()"
   ]
  },
  {
   "cell_type": "code",
   "execution_count": 26,
   "id": "b40ec1d4-205d-4c4a-b805-271650a4bc8e",
   "metadata": {
    "scrolled": true
   },
   "outputs": [
    {
     "name": "stdout",
     "output_type": "stream",
     "text": [
      "+--------------------+---------+---------+--------------+----------+----------------+--------------------+--------------------+--------------------+\n",
      "|               title|metascore|userscore|reviews_number|      date|           genre|           developer|           publisher|          plateforms|\n",
      "+--------------------+---------+---------+--------------+----------+----------------+--------------------+--------------------+--------------------+\n",
      "|     forza-horizon-5|       92|      8.2|          4735|2021-11-05| Auto Racing Sim|    Playground Games|   Xbox Game Studios|[PC, Xbox Series ...|\n",
      "|           astro-bot|       94|      9.5|          2164|2024-09-06|   3D Platformer|          Team Asobi|Sony Interactive ...|     [PlayStation 5]|\n",
      "|     resident-evil-4|       93|      8.4|          6685|2023-03-24|        Survival|              Capcom|              Capcom|[PlayStation 5, X...|\n",
      "|        demons-souls|       92|      8.1|          4326|2020-11-11|      Action RPG|     Bluepoint Games|Sony Interactive ...|     [PlayStation 5]|\n",
      "|castlevania-domin...|       92|      8.9|            28|2024-08-27|     Compilation|                  M2|              Konami|[Nintendo Switch,...|\n",
      "|the-last-of-us-pa...|       93|      5.8|        164735|2020-06-19|        Survival|         Naughty Dog|Sony Interactive ...|     [PlayStation 4]|\n",
      "|the-house-in-fata...|       96|      8.4|           975|2021-04-09|    Visual Novel|               HuneX|   Limited Run Games|   [Nintendo Switch]|\n",
      "|          retro-bowl|       84|      7.6|            31|2022-02-10|    Football Sim|Five Aces Publish...|Five Aces Publish...|[iOS (iPhone/iPad...|\n",
      "|    street-fighter-6|       92|      7.1|          1921|2023-06-02|     2D Fighting|              Capcom|              Capcom|[PlayStation 5, X...|\n",
      "|super-mario-bros-...|       92|      9.1|          2429|2023-10-20|   2D Platformer|            Nintendo|            Nintendo|   [Nintendo Switch]|\n",
      "|final-fantasy-xiv...|       92|      8.8|          2065|2021-12-07|          MMORPG|Creative Business...|         Square Enix|[PC, PlayStation ...|\n",
      "|      baldurs-gate-3|       96|      8.8|         17405|2023-08-03|     Western RPG|Larian Studios Games|Larian Studios Games|[PC, PlayStation ...|\n",
      "| god-of-war-ragnarok|       94|      8.1|         12119|2022-11-09|Action Adventure|    SCE Santa Monica| PlayStation Studios|[PlayStation 5, P...|\n",
      "|     super-mario-rpg|       84|      8.3|           390|2023-11-17|            JRPG|          ArtePiazza|            Nintendo|   [Nintendo Switch]|\n",
      "|          elden-ring|       96|      8.1|         17187|2022-02-25|      Action RPG|       From Software|  Bandai Namco Games|[PC, Xbox One, Pl...|\n",
      "|final-fantasy-vii...|       92|      8.9|          5127|2024-02-29|      Action RPG|         Square Enix|         Square Enix|     [PlayStation 5]|\n",
      "|xenoblade-chronic...|       92|      9.0|           520|2023-04-25|      Action RPG|       Monolith Soft|            Nintendo|   [Nintendo Switch]|\n",
      "|i-was-a-teenage-e...|       91|      7.7|            60|2022-08-25|     Card Battle|      Northway Games|               Finji|[PC, PlayStation ...|\n",
      "|portal-companion-...|       95|      8.7|            79|2022-06-28|     Compilation|      Valve Software|      Valve Software|   [Nintendo Switch]|\n",
      "|      half-life-alyx|       93|      9.2|          2981|2020-03-23|             FPS|      Valve Software|      Valve Software|                [PC]|\n",
      "+--------------------+---------+---------+--------------+----------+----------------+--------------------+--------------------+--------------------+\n",
      "only showing top 20 rows\n",
      "\n"
     ]
    }
   ],
   "source": [
    "# Convert 'date' column in DateType format directly to ISO 8601\n",
    "df = df.withColumn(\"date\", to_date(col(\"date\"), \"MMM d, yyyy\"))\n",
    "\n",
    "df.show()"
   ]
  },
  {
   "cell_type": "code",
   "execution_count": 27,
   "id": "4a123457-5be3-4253-ace8-52beb38efc38",
   "metadata": {},
   "outputs": [
    {
     "name": "stdout",
     "output_type": "stream",
     "text": [
      "root\n",
      " |-- title: string (nullable = true)\n",
      " |-- metascore: integer (nullable = true)\n",
      " |-- userscore: float (nullable = true)\n",
      " |-- reviews_number: integer (nullable = true)\n",
      " |-- date: date (nullable = true)\n",
      " |-- genre: string (nullable = true)\n",
      " |-- developer: string (nullable = true)\n",
      " |-- publisher: string (nullable = true)\n",
      " |-- plateforms: array (nullable = true)\n",
      " |    |-- element: string (containsNull = true)\n",
      "\n"
     ]
    }
   ],
   "source": [
    "#We transform our string into the appropriate type\n",
    "df = df.withColumn(\"metascore\", col(\"metascore\").cast(\"int\"))\n",
    "df = df.withColumn(\"reviews_number\", col(\"reviews_number\").cast(\"int\"))\n",
    "df = df.withColumn(\"userscore\", col(\"userscore\").cast(\"float\"))\n",
    "\n",
    "# Show DataFrame schema to check column types\n",
    "df.printSchema()"
   ]
  },
  {
   "cell_type": "code",
   "execution_count": 28,
   "id": "4c1ce173-f2ad-4c5b-a773-39fc8723bd3d",
   "metadata": {},
   "outputs": [],
   "source": [
    "# Sort platforms in the 'platforms' column alphabetically\n",
    "df = df.withColumn(\"plateforms\", sort_array(col(\"plateforms\")))"
   ]
  },
  {
   "cell_type": "code",
   "execution_count": 29,
   "id": "7f28d2ca-0ebe-4edf-927b-22cb52a0504c",
   "metadata": {},
   "outputs": [
    {
     "name": "stdout",
     "output_type": "stream",
     "text": [
      "+--------------------+---------+---------+--------------+----------+----------------+--------------------+--------------------+--------------------+\n",
      "|               title|metascore|userscore|reviews_number|      date|           genre|           developer|           publisher|          plateforms|\n",
      "+--------------------+---------+---------+--------------+----------+----------------+--------------------+--------------------+--------------------+\n",
      "|     forza-horizon-5|       92|      8.2|          4735|2021-11-05| Auto Racing Sim|    Playground Games|   Xbox Game Studios|[PC, Xbox One, Xb...|\n",
      "|           astro-bot|       94|      9.5|          2164|2024-09-06|   3D Platformer|          Team Asobi|Sony Interactive ...|     [PlayStation 5]|\n",
      "|     resident-evil-4|       93|      8.4|          6685|2023-03-24|        Survival|              Capcom|              Capcom|[PC, PlayStation ...|\n",
      "|        demons-souls|       92|      8.1|          4326|2020-11-11|      Action RPG|     Bluepoint Games|Sony Interactive ...|     [PlayStation 5]|\n",
      "|castlevania-domin...|       92|      8.9|            28|2024-08-27|     Compilation|                  M2|              Konami|[Nintendo Switch,...|\n",
      "|the-last-of-us-pa...|       93|      5.8|        164735|2020-06-19|        Survival|         Naughty Dog|Sony Interactive ...|     [PlayStation 4]|\n",
      "|the-house-in-fata...|       96|      8.4|           975|2021-04-09|    Visual Novel|               HuneX|   Limited Run Games|   [Nintendo Switch]|\n",
      "|          retro-bowl|       84|      7.6|            31|2022-02-10|    Football Sim|Five Aces Publish...|Five Aces Publish...|[Nintendo Switch,...|\n",
      "|    street-fighter-6|       92|      7.1|          1921|2023-06-02|     2D Fighting|              Capcom|              Capcom|[PC, PlayStation ...|\n",
      "|super-mario-bros-...|       92|      9.1|          2429|2023-10-20|   2D Platformer|            Nintendo|            Nintendo|   [Nintendo Switch]|\n",
      "|final-fantasy-xiv...|       92|      8.8|          2065|2021-12-07|          MMORPG|Creative Business...|         Square Enix|[PC, PlayStation ...|\n",
      "|      baldurs-gate-3|       96|      8.8|         17405|2023-08-03|     Western RPG|Larian Studios Games|Larian Studios Games|[PC, PlayStation ...|\n",
      "| god-of-war-ragnarok|       94|      8.1|         12119|2022-11-09|Action Adventure|    SCE Santa Monica| PlayStation Studios|[PC, PlayStation ...|\n",
      "|     super-mario-rpg|       84|      8.3|           390|2023-11-17|            JRPG|          ArtePiazza|            Nintendo|   [Nintendo Switch]|\n",
      "|          elden-ring|       96|      8.1|         17187|2022-02-25|      Action RPG|       From Software|  Bandai Namco Games|[PC, PlayStation ...|\n",
      "|final-fantasy-vii...|       92|      8.9|          5127|2024-02-29|      Action RPG|         Square Enix|         Square Enix|     [PlayStation 5]|\n",
      "|xenoblade-chronic...|       92|      9.0|           520|2023-04-25|      Action RPG|       Monolith Soft|            Nintendo|   [Nintendo Switch]|\n",
      "|i-was-a-teenage-e...|       91|      7.7|            60|2022-08-25|     Card Battle|      Northway Games|               Finji|[Nintendo Switch,...|\n",
      "|portal-companion-...|       95|      8.7|            79|2022-06-28|     Compilation|      Valve Software|      Valve Software|   [Nintendo Switch]|\n",
      "|      half-life-alyx|       93|      9.2|          2981|2020-03-23|             FPS|      Valve Software|      Valve Software|                [PC]|\n",
      "+--------------------+---------+---------+--------------+----------+----------------+--------------------+--------------------+--------------------+\n",
      "only showing top 20 rows\n",
      "\n"
     ]
    }
   ],
   "source": [
    "# Delete rows containing NULLs in any column\n",
    "df = df.dropna()\n",
    "df.show()"
   ]
  },
  {
   "cell_type": "code",
   "execution_count": 30,
   "id": "33165ee1-022e-4694-868a-e099f7294fef",
   "metadata": {},
   "outputs": [
    {
     "name": "stdout",
     "output_type": "stream",
     "text": [
      "total games : 2948\n",
      "total games processed: 2944\n",
      "99 % games were kept after transformation\n"
     ]
    }
   ],
   "source": [
    "total_jeux_traites = df.count()\n",
    "total_jeux = len(titles)\n",
    "print(\"total games :\",total_jeux)\n",
    "print(\"total games processed:\",total_jeux_traites)\n",
    "print(int((total_jeux_traites/total_jeux)*100),\"% games were kept after transformation\")"
   ]
  },
  {
   "cell_type": "code",
   "execution_count": 31,
   "id": "219bdbba-af0c-4bb4-9cd7-9771ff4ef001",
   "metadata": {},
   "outputs": [
    {
     "name": "stdout",
     "output_type": "stream",
     "text": [
      "In titles but not in the final df: ['rose-and-camellia-collection', 'the-legend-of-zelda-echoes-of-wisdom', 'super-mario-party-jamboree', 'silent-hill-2']\n"
     ]
    }
   ],
   "source": [
    "liste_titre_jeux_traite = df.select(\"title\").rdd.flatMap(lambda x: x).collect()\n",
    "\n",
    "diff1 = [item for item in titles if item not in liste_titre_jeux_traite]\n",
    "print(\"In titles but not in the final df:\", diff1)"
   ]
  },
  {
   "cell_type": "code",
   "execution_count": 32,
   "id": "1d282971-66ba-45c6-824a-8a680e409846",
   "metadata": {},
   "outputs": [
    {
     "name": "stderr",
     "output_type": "stream",
     "text": [
      "                                                                                \r"
     ]
    }
   ],
   "source": [
    "bucket_name = \"videogames-project\"\n",
    "\n",
    "# Get the day\n",
    "today = datetime.today().date()\n",
    "\n",
    "# Format the date as 'YYYY-MM-DD'\n",
    "formatted_date = today.strftime('%Y-%m-%d')\n",
    "\n",
    "path = f\"s3a://{bucket_name}/dataset-{today}/\" \n",
    "\n",
    "df.write.mode(\"overwrite\").parquet(path)"
   ]
  }
 ],
 "metadata": {
  "kernelspec": {
   "display_name": "Python 3 (ipykernel)",
   "language": "python",
   "name": "python3"
  },
  "language_info": {
   "codemirror_mode": {
    "name": "ipython",
    "version": 3
   },
   "file_extension": ".py",
   "mimetype": "text/x-python",
   "name": "python",
   "nbconvert_exporter": "python",
   "pygments_lexer": "ipython3",
   "version": "3.11.5"
  }
 },
 "nbformat": 4,
 "nbformat_minor": 5
}
